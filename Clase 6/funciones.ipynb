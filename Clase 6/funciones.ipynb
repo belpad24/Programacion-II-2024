{
 "cells": [
  {
   "cell_type": "code",
   "execution_count": 9,
   "metadata": {},
   "outputs": [],
   "source": [
    "def saludo():\n",
    "    print(\"Hola alumnos del poli\")\n"
   ]
  },
  {
   "cell_type": "code",
   "execution_count": 10,
   "metadata": {},
   "outputs": [
    {
     "name": "stdout",
     "output_type": "stream",
     "text": [
      "Hola alumnos del poli\n"
     ]
    }
   ],
   "source": [
    "saludo()"
   ]
  },
  {
   "cell_type": "code",
   "execution_count": 9,
   "metadata": {},
   "outputs": [
    {
     "name": "stdout",
     "output_type": "stream",
     "text": [
      "Bienvenido al sistema Juan Perez de 25 años\n"
     ]
    }
   ],
   "source": [
    "def saludo1(nombre, apellido, edad):\n",
    "    print(f\"Bienvenido al sistema\", nombre, apellido,  \"de\", edad, \"años\")\n",
    "saludo1(\"Juan\", \"Perez\", 25)"
   ]
  },
  {
   "cell_type": "code",
   "execution_count": 10,
   "metadata": {},
   "outputs": [
    {
     "name": "stdout",
     "output_type": "stream",
     "text": [
      "Bienvenido al sistema Belen Padron de 39 años\n"
     ]
    }
   ],
   "source": [
    "saludo1(nombre= \"Belen\", apellido=\"Padron\", edad= 39)"
   ]
  },
  {
   "cell_type": "markdown",
   "metadata": {},
   "source": [
    "#parametro con valor por defecto ... si no le paso argumento toma 20, sino  toma el valor que le pase"
   ]
  },
  {
   "cell_type": "code",
   "execution_count": 8,
   "metadata": {},
   "outputs": [],
   "source": [
    "def saludo2(nombre, apellido, edad=20):\n",
    "    print(f\"Bienvenido al sistema\", nombre, apellido,  \"de\", edad, \"años\")"
   ]
  },
  {
   "cell_type": "code",
   "execution_count": 9,
   "metadata": {},
   "outputs": [
    {
     "name": "stdout",
     "output_type": "stream",
     "text": [
      "Bienvenido al sistema Horacio Guarany de 20 años\n"
     ]
    }
   ],
   "source": [
    "saludo2 (\"Horacio\",\"Guarany\")"
   ]
  },
  {
   "cell_type": "code",
   "execution_count": 15,
   "metadata": {},
   "outputs": [],
   "source": [
    "\n",
    "#tipo de datos explicitos para parametros\n",
    "def operacion1(num,num1):\n",
    "    return num* num1"
   ]
  },
  {
   "cell_type": "code",
   "execution_count": 16,
   "metadata": {},
   "outputs": [
    {
     "data": {
      "text/plain": [
       "150"
      ]
     },
     "execution_count": 16,
     "metadata": {},
     "output_type": "execute_result"
    }
   ],
   "source": [
    "operacion1(10,15)"
   ]
  },
  {
   "cell_type": "code",
   "execution_count": 20,
   "metadata": {},
   "outputs": [
    {
     "name": "stdout",
     "output_type": "stream",
     "text": [
      "El resultado es menor\n"
     ]
    }
   ],
   "source": [
    "resultado = operacion1 (7,5)\n",
    "if resultado > 40:\n",
    "        print(\"El resultado es mayor\")\n",
    "else:\n",
    "        print(\"El resultado es menor\")"
   ]
  },
  {
   "cell_type": "markdown",
   "metadata": {},
   "source": []
  }
 ],
 "metadata": {
  "kernelspec": {
   "display_name": "Python 3",
   "language": "python",
   "name": "python3"
  },
  "language_info": {
   "codemirror_mode": {
    "name": "ipython",
    "version": 3
   },
   "file_extension": ".py",
   "mimetype": "text/x-python",
   "name": "python",
   "nbconvert_exporter": "python",
   "pygments_lexer": "ipython3",
   "version": "3.11.9"
  }
 },
 "nbformat": 4,
 "nbformat_minor": 2
}
