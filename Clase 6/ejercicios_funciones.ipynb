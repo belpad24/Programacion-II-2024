{
 "cells": [
  {
   "cell_type": "markdown",
   "metadata": {},
   "source": [
    "1. Crear una función llamada “usuario” que reciba como parámetro un\n",
    "nombre y devuelva un mensaje “Bienvenido al sistema {nombre}”."
   ]
  },
  {
   "cell_type": "code",
   "execution_count": 8,
   "metadata": {},
   "outputs": [],
   "source": [
    "def usuario(nombre):\n",
    "    print(f\"Bienvenido al sistema\", nombre)"
   ]
  },
  {
   "cell_type": "markdown",
   "metadata": {},
   "source": [
    "2. llamar a la función “usuario”"
   ]
  },
  {
   "cell_type": "code",
   "execution_count": 9,
   "metadata": {},
   "outputs": [
    {
     "name": "stdout",
     "output_type": "stream",
     "text": [
      "Bienvenido al sistema Belen\n"
     ]
    }
   ],
   "source": [
    "usuario(\"Belen\")"
   ]
  },
  {
   "cell_type": "markdown",
   "metadata": {},
   "source": [
    "3. Escribe una función que tome dos números como parametros y\n",
    "devuelva su suma."
   ]
  },
  {
   "cell_type": "code",
   "execution_count": 16,
   "metadata": {},
   "outputs": [],
   "source": [
    "def suma(num,num1):\n",
    "    return  num + num1"
   ]
  },
  {
   "cell_type": "code",
   "execution_count": 17,
   "metadata": {},
   "outputs": [
    {
     "data": {
      "text/plain": [
       "9"
      ]
     },
     "execution_count": 17,
     "metadata": {},
     "output_type": "execute_result"
    }
   ],
   "source": [
    "suma(5,4)"
   ]
  },
  {
   "cell_type": "markdown",
   "metadata": {},
   "source": [
    "4. Crea una función que reciba dos números y una operación (suma,\n",
    "resta, multiplicación, división) y devuelva el resultado."
   ]
  },
  {
   "cell_type": "code",
   "execution_count": 19,
   "metadata": {},
   "outputs": [],
   "source": [
    "def operaciones (num,num1,op):\n",
    "    if op == 1:\n",
    "        return num + num1\n",
    "    elif op == 2:\n",
    "        return num - num1\n",
    "    elif  op == 3:\n",
    "        return num * num1\n",
    "    elif op == 4:\n",
    "        return num / num1\n",
    "    else:\n",
    "        return \"Operacion invalida\"  # puedo poner tambien salir o intente nuevamente"
   ]
  },
  {
   "cell_type": "code",
   "execution_count": 20,
   "metadata": {},
   "outputs": [
    {
     "name": "stdout",
     "output_type": "stream",
     "text": [
      "Seleccione una opcion: 1-Suma, 2-Resta, 3- Multiplicacion,4-Division\n",
      "30\n"
     ]
    }
   ],
   "source": [
    "num=int(input(\"Ingrese el Primer numero\"))\n",
    "num1=int(input(\"Ingrese el segundo numero\"))\n",
    "print(\"Seleccione una opcion: 1-Suma, 2-Resta, 3-Multiplicacion, 4-Division\")\n",
    "op=int(input(\"Elija una operacion\"))\n",
    "resultado = operaciones (num,num1,op)\n",
    "print(resultado)\n",
    "\n"
   ]
  },
  {
   "cell_type": "code",
   "execution_count": 21,
   "metadata": {},
   "outputs": [],
   "source": [
    "frutas=[\"naranja\",\"banana\",\"kiwi\",\"pera\"]\n",
    "def mi_lista(lista1):\n",
    "    for  i in lista1:\n",
    "            print(i)"
   ]
  },
  {
   "cell_type": "code",
   "execution_count": 22,
   "metadata": {},
   "outputs": [
    {
     "name": "stdout",
     "output_type": "stream",
     "text": [
      "naranja\n",
      "banana\n",
      "kiwi\n",
      "pera\n"
     ]
    }
   ],
   "source": [
    "frutas=[\"naranja\",\"banana\",\"kiwi\",\"pera\"]\n",
    "mi_lista(frutas)"
   ]
  }
 ],
 "metadata": {
  "kernelspec": {
   "display_name": "Python 3",
   "language": "python",
   "name": "python3"
  },
  "language_info": {
   "codemirror_mode": {
    "name": "ipython",
    "version": 3
   },
   "file_extension": ".py",
   "mimetype": "text/x-python",
   "name": "python",
   "nbconvert_exporter": "python",
   "pygments_lexer": "ipython3",
   "version": "3.11.9"
  }
 },
 "nbformat": 4,
 "nbformat_minor": 2
}
