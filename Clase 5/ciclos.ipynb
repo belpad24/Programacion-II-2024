{
 "cells": [
  {
   "cell_type": "code",
   "execution_count": 2,
   "metadata": {},
   "outputs": [
    {
     "name": "stdout",
     "output_type": "stream",
     "text": [
      "rojo\n",
      "amarillo\n",
      "violeta\n",
      "El color ahora es igual a rojo\n",
      "El color ahora es igual a gris\n",
      "El color ahora es igual a amarillo\n",
      "El color ahora es igual a verde\n",
      "El color ahora es igual a marron\n",
      "El color ahora es igual a violeta\n",
      "El color ahora es igual a azul\n"
     ]
    }
   ],
   "source": [
    "# iterar listas por color\n",
    "colores= [\"rojo\",\"amarillo\",\"verde\",\"marron\",\"violeta\"]\n",
    "print(colores[0])\n",
    "print(colores[1])\n",
    "print(colores[4])\n",
    "colores.append(\"azul\")\n",
    "colores.insert(1, \"gris\")\n",
    "\n",
    "for p in  colores: #p es una variable que va a recorrer cada posicion en la lsta- desde el inio hasta el final\n",
    "    print(f\"El color ahora es igual a {p}\")"
   ]
  },
  {
   "cell_type": "code",
   "execution_count": null,
   "metadata": {},
   "outputs": [],
   "source": [
    "# funion range() desde donde hasta donde y de cuanto en cuanto\n",
    "for  numero in range(0, 200, 5):\n",
    "    print(numero)"
   ]
  },
  {
   "cell_type": "code",
   "execution_count": 3,
   "metadata": {},
   "outputs": [
    {
     "name": "stdout",
     "output_type": "stream",
     "text": [
      "['rojo', 'gris', 'amarillo', 'verde', 'marron', 'violeta', 'azul']\n"
     ]
    }
   ],
   "source": [
    "print(colores)"
   ]
  },
  {
   "cell_type": "code",
   "execution_count": 4,
   "metadata": {},
   "outputs": [
    {
     "name": "stdout",
     "output_type": "stream",
     "text": [
      "7\n"
     ]
    }
   ],
   "source": [
    "print(len(colores))"
   ]
  },
  {
   "cell_type": "code",
   "execution_count": 7,
   "metadata": {},
   "outputs": [
    {
     "name": "stdout",
     "output_type": "stream",
     "text": [
      "EL elemento en la posicion 0 de mi lista es: rojo\n",
      "EL elemento en la posicion 1 de mi lista es: gris\n",
      "EL elemento en la posicion 2 de mi lista es: amarillo\n"
     ]
    }
   ],
   "source": [
    "for item in range(0,3):\n",
    "    print(f\"EL elemento en la posicion {item} de mi lista es: {colores[item]}\")"
   ]
  },
  {
   "cell_type": "code",
   "execution_count": 4,
   "metadata": {},
   "outputs": [
    {
     "name": "stdout",
     "output_type": "stream",
     "text": [
      "(0, 'rojo')\n",
      "(1, 'gris')\n",
      "(2, 'amarillo')\n",
      "(3, 'verde')\n",
      "(4, 'marron')\n",
      "(5, 'violeta')\n",
      "(6, 'azul')\n"
     ]
    }
   ],
   "source": [
    "#ennumerate da posicion y el valor - forma de recorrer una lista a traves de su indice\n",
    "colores = ['rojo', 'gris', 'amarillo', 'verde', 'marron', 'violeta', 'azul']\n",
    "\n",
    "for color in enumerate (colores):\n",
    "    print(color)"
   ]
  },
  {
   "cell_type": "code",
   "execution_count": 5,
   "metadata": {},
   "outputs": [
    {
     "name": "stdout",
     "output_type": "stream",
     "text": [
      "Belen\n",
      "Padron\n",
      "39\n",
      "femenino\n",
      "['rock', 'pop', 'clasica']\n",
      "{'marca': 'Fiat', 'modelo': 'Mobi', 'año': 2018}\n"
     ]
    }
   ],
   "source": [
    "#recorriendo un diccionario clave valor\n",
    "persona  = {\"nombre\": \"Belen\", \"apellido\":\"Padron\", \"edad\": 39,\"sexo\":\"femenino\", \"musica_favorita\": [\"rock\",\"pop\",\"clasica\"],\"vehiculo\":{\"marca\":\"Fiat\",\"modelo\":\"Mobi\",\"año\":2018}}\n",
    "for b in persona.values():\n",
    "    print(b)"
   ]
  },
  {
   "cell_type": "code",
   "execution_count": 6,
   "metadata": {},
   "outputs": [
    {
     "name": "stdout",
     "output_type": "stream",
     "text": [
      "('nombre', 'Belen')\n",
      "('apellido', 'Padron')\n",
      "('edad', 39)\n",
      "('sexo', 'femenino')\n",
      "('musica_favorita', ['rock', 'pop', 'clasica'])\n",
      "('vehiculo', {'marca': 'Fiat', 'modelo': 'Mobi', 'año': 2018})\n"
     ]
    }
   ],
   "source": [
    "#recorriendo un diccionario clave valor\n",
    "persona  = {\"nombre\": \"Belen\", \"apellido\":\"Padron\", \"edad\": 39,\"sexo\":\"femenino\", \"musica_favorita\": [\"rock\",\"pop\",\"clasica\"],\"vehiculo\":{\"marca\":\"Fiat\",\"modelo\":\"Mobi\",\"año\":2018}}\n",
    "for b in persona.items():\n",
    "    print(b)"
   ]
  },
  {
   "cell_type": "code",
   "execution_count": 7,
   "metadata": {},
   "outputs": [
    {
     "name": "stdout",
     "output_type": "stream",
     "text": [
      "nombre\n",
      "apellido\n",
      "edad\n",
      "sexo\n",
      "musica_favorita\n",
      "vehiculo\n"
     ]
    }
   ],
   "source": [
    "#recorriendo un diccionario clave valor\n",
    "persona  = {\"nombre\": \"Belen\", \"apellido\":\"Padron\", \"edad\": 39,\"sexo\":\"femenino\", \"musica_favorita\": [\"rock\",\"pop\",\"clasica\"],\"vehiculo\":{\"marca\":\"Fiat\",\"modelo\":\"Mobi\",\"año\":2018}}\n",
    "for b in persona.keys():  #for keys in persona(): print(keys)\n",
    "    print(b)"
   ]
  },
  {
   "cell_type": "code",
   "execution_count": 8,
   "metadata": {},
   "outputs": [
    {
     "name": "stdout",
     "output_type": "stream",
     "text": [
      "Voy a comer una  banana\n",
      "Voy a comer una  manzana\n",
      "Voy a comer una  kiwi\n",
      "Voy a comer una  uva\n"
     ]
    }
   ],
   "source": [
    "#uso del continue - cambiar un ciclo normal de flujo con el\n",
    "frutas= [\"banana\",\"manzana\",\"kiwi\",\"pera\",\"ciruela\",\"uva\"]\n",
    "\n",
    "for fruta in frutas:\n",
    "    if  fruta == \"ciruela\" or  fruta == \"pera\":\n",
    "        continue # con este continue le digo que saltee eso y siga por el prox\n",
    "    print(f\"Voy a comer una  {fruta}\")"
   ]
  },
  {
   "cell_type": "code",
   "execution_count": 9,
   "metadata": {},
   "outputs": [
    {
     "name": "stdout",
     "output_type": "stream",
     "text": [
      "Voy a comer una  banana\n",
      "Voy a comer una  manzana\n",
      "Voy a comer una  kiwi\n",
      "Voy a comer una  pera\n"
     ]
    }
   ],
   "source": [
    "for fruta in frutas:\n",
    "    if  fruta == \"ciruela\":\n",
    "        break # con este break le digo que cuando llegue ahi se corte\n",
    "    print(f\"Voy a comer una  {fruta}\")"
   ]
  },
  {
   "cell_type": "code",
   "execution_count": null,
   "metadata": {},
   "outputs": [],
   "source": [
    "mi_texto = \"Hola clase de Programacion 2\"\n",
    "for i in mi_texto:\n",
    "    print(i)"
   ]
  },
  {
   "cell_type": "code",
   "execution_count": null,
   "metadata": {},
   "outputs": [],
   "source": [
    "numero = 0\n",
    "while numero <=10: # cuando no se cuantas iteraciones voy a dar\n",
    "    print(numero)\n",
    "    numero=numero + 1  # puedo hacerlo con el numero+=1 .... siempre incrementar el valor de mi variable"
   ]
  }
 ],
 "metadata": {
  "kernelspec": {
   "display_name": "Python 3",
   "language": "python",
   "name": "python3"
  },
  "language_info": {
   "codemirror_mode": {
    "name": "ipython",
    "version": 3
   },
   "file_extension": ".py",
   "mimetype": "text/x-python",
   "name": "python",
   "nbconvert_exporter": "python",
   "pygments_lexer": "ipython3",
   "version": "3.11.9"
  }
 },
 "nbformat": 4,
 "nbformat_minor": 2
}
