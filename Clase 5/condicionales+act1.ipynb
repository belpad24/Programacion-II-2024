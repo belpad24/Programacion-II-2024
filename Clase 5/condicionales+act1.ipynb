{
 "cells": [
  {
   "cell_type": "markdown",
   "metadata": {},
   "source": [
    "Condicionales If, Elif y Else\n",
    "\n",
    "if condicion:\n",
    "    print(\"Esto es lo que hay que hacer\")\n",
    "else:\n",
    "    print(\"No hay nada que hacer\")"
   ]
  },
  {
   "cell_type": "code",
   "execution_count": null,
   "metadata": {},
   "outputs": [],
   "source": [
    "edad= 15\n",
    "if edad >= 18:\n",
    "    print(\"Eres mayor de edad\")\n",
    "else:\n",
    "    print(\"Eres menor de edad\")"
   ]
  },
  {
   "cell_type": "markdown",
   "metadata": {},
   "source": [
    "Se usan 3 operadores: De COmparacion: = <> =<  > = > = < > = > = > = > = > = > = > = >\n",
    "                        Logicos: and or y not    Responde True o False\n",
    "                        Pertenencia: in not in"
   ]
  },
  {
   "cell_type": "code",
   "execution_count": 2,
   "metadata": {},
   "outputs": [
    {
     "name": "stdout",
     "output_type": "stream",
     "text": [
      "La palabra contiene la letra e\n"
     ]
    }
   ],
   "source": [
    "Palabra= \"Belen\"\n",
    "if \"e\" in Palabra:\n",
    "    print(\"La palabra contiene la letra e\")\n",
    "else:\n",
    "    print(\"La palabra no contiene la letra e\")"
   ]
  },
  {
   "cell_type": "code",
   "execution_count": 4,
   "metadata": {},
   "outputs": [
    {
     "name": "stdout",
     "output_type": "stream",
     "text": [
      "Contraseña correcta\n"
     ]
    }
   ],
   "source": [
    "contraseña_bd = \"bpadron123\"\n",
    "contraseña_ingresada = \"bpadron123\"\n",
    "\n",
    "if contraseña_bd == contraseña_ingresada:\n",
    "    print (\"Contraseña correcta\")\n",
    "else:\n",
    "    print (\"Contraseña incorrecta, intente nuevamente\")"
   ]
  },
  {
   "cell_type": "code",
   "execution_count": 1,
   "metadata": {},
   "outputs": [
    {
     "name": "stdout",
     "output_type": "stream",
     "text": [
      "El ingreso mensual es menor a la canasta basica\n"
     ]
    }
   ],
   "source": [
    "Ingreso_Mensual = 80000\n",
    "if  Ingreso_Mensual <= 203000:\n",
    "    print(\"El ingreso mensual es menor a la canasta basica\")\n",
    "elif  Ingreso_Mensual > 203000 and Ingreso_Mensual < 70000:\n",
    "    print(\"El ingreso mensual equivale a una clase media baja\")\n",
    "elif  Ingreso_Mensual >= 700000 and Ingreso_Mensual < 1200000:\n",
    "    print(\" El ingreso mensual equivale a una clase media alta\")\n",
    "elif Ingreso_Mensual  >= 1200000 and Ingreso_Mensual < 2500000:\n",
    "    print(\"El ingreso mensual equivale a una clase alta y permite ahorro\")\n",
    "else:\n",
    "    print(\"El ingreso es  muy alto y permite vivir bien y viajar\")"
   ]
  },
  {
   "cell_type": "markdown",
   "metadata": {},
   "source": [
    "1) ingresar dos numeros por teclado y si a es mayor a b imprimir \"Hola Politecnico\""
   ]
  },
  {
   "cell_type": "code",
   "execution_count": 2,
   "metadata": {},
   "outputs": [
    {
     "name": "stdout",
     "output_type": "stream",
     "text": [
      "Hola politecnico\n"
     ]
    }
   ],
   "source": [
    "numero1=int(input(\"Ingrese Numero 1\"))\n",
    "numero2=int(input(\"Ingrese Numero 2\"))\n",
    "if numero1 >numero2:\n",
    "    print(\"Hola politecnico\")"
   ]
  },
  {
   "cell_type": "markdown",
   "metadata": {},
   "source": [
    "4) ingrese dos numeros a y b. si a es igual a b imprimir 1, si es mayor que b imprimir 2 y si no imprimir 3"
   ]
  },
  {
   "cell_type": "code",
   "execution_count": 3,
   "metadata": {},
   "outputs": [
    {
     "name": "stdout",
     "output_type": "stream",
     "text": [
      "1\n"
     ]
    }
   ],
   "source": [
    "a=int(input(\"Ingrese Numero 1\"))\n",
    "b=int(input(\"Ingrese Numero 2\"))\n",
    "if a == b:\n",
    "    print(1)\n",
    "elif a > b:\n",
    "    print(2)\n",
    "else:\n",
    "    print(3)"
   ]
  },
  {
   "cell_type": "markdown",
   "metadata": {},
   "source": [
    "5) ingrese 4 numeros a b c y d, si a en igual a b, y c es igual a d imprimir \"Hola Politecnico\""
   ]
  },
  {
   "cell_type": "code",
   "execution_count": 4,
   "metadata": {},
   "outputs": [
    {
     "name": "stdout",
     "output_type": "stream",
     "text": [
      "Hola politecnico\n"
     ]
    }
   ],
   "source": [
    "a=int(input(\"Ingrese Numero 1\"))\n",
    "b=int(input(\"Ingrese Numero 2\"))\n",
    "c=int(input(\"Ingrese Numero 3\"))\n",
    "d=int(input(\"Ingrese Numero 4\"))\n",
    "\n",
    "if  a==b  and c==d:\n",
    "    print(\"Hola politecnico\")"
   ]
  },
  {
   "cell_type": "markdown",
   "metadata": {},
   "source": [
    "6) ingrese 4 numeros a b c y d, si a en igual a b o c es igual a d imprimir \"Hola Politecnico\"\n"
   ]
  },
  {
   "cell_type": "code",
   "execution_count": 5,
   "metadata": {},
   "outputs": [
    {
     "name": "stdout",
     "output_type": "stream",
     "text": [
      "Hola politecnico\n"
     ]
    }
   ],
   "source": [
    "a=int(input(\"Ingrese Numero 1\"))\n",
    "b=int(input(\"Ingrese Numero 2\"))\n",
    "c=int(input(\"Ingrese Numero 3\"))\n",
    "d=int(input(\"Ingrese Numero 4\"))\n",
    "if  (a==b)  or (c==d):\n",
    "    print(\"Hola politecnico\")"
   ]
  },
  {
   "cell_type": "markdown",
   "metadata": {},
   "source": [
    "8) ingresar un numero por teclado y mostrar por pantalla si es par o impar"
   ]
  },
  {
   "cell_type": "code",
   "execution_count": 6,
   "metadata": {},
   "outputs": [
    {
     "name": "stdout",
     "output_type": "stream",
     "text": [
      "El numero es par\n"
     ]
    }
   ],
   "source": [
    "numero=int(input(\"Ingrese Numero 1\"))\n",
    "if numero %2 == 0:\n",
    "    print(\"El numero es par\")\n",
    "else:\n",
    "    print(\"El numero es impar\")"
   ]
  },
  {
   "cell_type": "markdown",
   "metadata": {},
   "source": [
    "9) ingresar por teclado 3 numeros y mostrar el mayor de los 3"
   ]
  },
  {
   "cell_type": "code",
   "execution_count": 8,
   "metadata": {},
   "outputs": [
    {
     "name": "stdout",
     "output_type": "stream",
     "text": [
      "El mayor es  8\n"
     ]
    }
   ],
   "source": [
    "num1=int(input(\"Ingrese Numero 1\"))\n",
    "num2=int(input(\"Ingrese Numero 2\"))\n",
    "num3=int(input(\"Ingrese Numero 3\"))\n",
    "\n",
    "if  num1> num2 and  num1> num3:\n",
    "    print(\"El  mayor es\", num1)\n",
    "elif num2> num1 and  num2> num3:\n",
    "    print(\"El mayor es \", num2)\n",
    "else:\n",
    "    print(\"El mayor es \", num3)"
   ]
  },
  {
   "cell_type": "markdown",
   "metadata": {},
   "source": [
    "10) ingresar un nombre por teclado, si la variable nombre no es nula imprimir \"Bienbenido nombre\" y sino \"Bienvenido Anonimo\""
   ]
  },
  {
   "cell_type": "code",
   "execution_count": 10,
   "metadata": {},
   "outputs": [
    {
     "name": "stdout",
     "output_type": "stream",
     "text": [
      "Bienvenido anonimo\n"
     ]
    }
   ],
   "source": [
    "nombre= input(\"Ingrese su nombre\")\n",
    "if nombre == \"\":\n",
    "    print(\"Bienvenido anonimo\")\n",
    "else:\n",
    "    print(\"Bienvenido\", nombre) # print(\"Bienvenido {nombre}\")"
   ]
  },
  {
   "cell_type": "code",
   "execution_count": 13,
   "metadata": {},
   "outputs": [
    {
     "name": "stdout",
     "output_type": "stream",
     "text": [
      "Bienvenido Belen\n"
     ]
    }
   ],
   "source": [
    "nombre= input(\"Ingrese su nombre\")\n",
    "if len(nombre)> 0:\n",
    "    print(\"Bienvenid@\",nombre)\n",
    "else:\n",
    "    print(\"Bienvenid@ Anonim@\")"
   ]
  }
 ],
 "metadata": {
  "kernelspec": {
   "display_name": "Python 3",
   "language": "python",
   "name": "python3"
  },
  "language_info": {
   "codemirror_mode": {
    "name": "ipython",
    "version": 3
   },
   "file_extension": ".py",
   "mimetype": "text/x-python",
   "name": "python",
   "nbconvert_exporter": "python",
   "pygments_lexer": "ipython3",
   "version": "3.11.9"
  }
 },
 "nbformat": 4,
 "nbformat_minor": 2
}
