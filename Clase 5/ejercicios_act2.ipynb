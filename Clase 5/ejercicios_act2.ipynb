{
 "cells": [
  {
   "cell_type": "markdown",
   "metadata": {},
   "source": [
    "1. Imprimir los números del 1 al 20 utilizando un bucle for"
   ]
  },
  {
   "cell_type": "code",
   "execution_count": null,
   "metadata": {},
   "outputs": [],
   "source": [
    "for i in range (1,21):\n",
    "    print (i)"
   ]
  },
  {
   "cell_type": "markdown",
   "metadata": {},
   "source": [
    "2. Imprimir los números pares del 1 al 20 utilizando un bucle while"
   ]
  },
  {
   "cell_type": "code",
   "execution_count": 1,
   "metadata": {},
   "outputs": [
    {
     "name": "stdout",
     "output_type": "stream",
     "text": [
      "2\n",
      "4\n",
      "6\n",
      "8\n",
      "10\n",
      "12\n",
      "14\n",
      "16\n",
      "18\n",
      "20\n"
     ]
    }
   ],
   "source": [
    "i = 1\n",
    "while i < 21:\n",
    "    if i %2 == 0:\n",
    "        print(i)\n",
    "    i += 1"
   ]
  },
  {
   "cell_type": "markdown",
   "metadata": {},
   "source": [
    "3. Imprimir los números impares del 1 al 30 utilizando un bucle for"
   ]
  },
  {
   "cell_type": "code",
   "execution_count": 2,
   "metadata": {},
   "outputs": [
    {
     "name": "stdout",
     "output_type": "stream",
     "text": [
      "1\n",
      "3\n",
      "5\n",
      "7\n",
      "9\n",
      "11\n",
      "13\n",
      "15\n",
      "17\n",
      "19\n",
      "21\n",
      "23\n",
      "25\n",
      "27\n",
      "29\n"
     ]
    }
   ],
   "source": [
    "for i in range(1,31,2):\n",
    "    print(i)"
   ]
  },
  {
   "cell_type": "markdown",
   "metadata": {},
   "source": [
    "4. Ingresar un número por teclado y mostrar su tabla de multiplicar del\n",
    "1 al 10."
   ]
  },
  {
   "cell_type": "code",
   "execution_count": 6,
   "metadata": {},
   "outputs": [
    {
     "name": "stdout",
     "output_type": "stream",
     "text": [
      " 5 x 1 = 5\n",
      " 5 x 2 = 10\n",
      " 5 x 3 = 15\n",
      " 5 x 4 = 20\n",
      " 5 x 5 = 25\n",
      " 5 x 6 = 30\n",
      " 5 x 7 = 35\n",
      " 5 x 8 = 40\n",
      " 5 x 9 = 45\n",
      " 5 x 10 = 50\n"
     ]
    }
   ],
   "source": [
    "num= int(input(\"Ingrese un numero: \"))\n",
    "for i in range (1,11):\n",
    "    print(f\" {num} x {i} = {num*i}\") # tambien puede ser: print(i*num))"
   ]
  },
  {
   "cell_type": "markdown",
   "metadata": {},
   "source": [
    "5. Imprimir los números del 1 al 100, para los múltiplos de 3, imprimir\n",
    "“múltiplo de 3”, para los múltiplos de 5 imprimir “múltiplo de 5” y\n",
    "para los múltiplos de 3 y de 5 imprimir “múltiplo de 3 y 5”."
   ]
  },
  {
   "cell_type": "code",
   "execution_count": 1,
   "metadata": {},
   "outputs": [
    {
     "name": "stdout",
     "output_type": "stream",
     "text": [
      "1 no aplica\n",
      "2 no aplica\n",
      "3 es multiplo de 3\n",
      "4 no aplica\n",
      "5 es multiplo de 5\n",
      "6 es multiplo de 3\n",
      "7 no aplica\n",
      "8 no aplica\n",
      "9 es multiplo de 3\n",
      "10 es multiplo de 5\n",
      "11 no aplica\n",
      "12 es multiplo de 3\n",
      "13 no aplica\n",
      "14 no aplica\n",
      "15 es multiplo de 3 y 5\n",
      "16 no aplica\n",
      "17 no aplica\n",
      "18 es multiplo de 3\n",
      "19 no aplica\n",
      "20 es multiplo de 5\n",
      "21 es multiplo de 3\n",
      "22 no aplica\n",
      "23 no aplica\n",
      "24 es multiplo de 3\n",
      "25 es multiplo de 5\n",
      "26 no aplica\n",
      "27 es multiplo de 3\n",
      "28 no aplica\n",
      "29 no aplica\n",
      "30 es multiplo de 3 y 5\n",
      "31 no aplica\n",
      "32 no aplica\n",
      "33 es multiplo de 3\n",
      "34 no aplica\n",
      "35 es multiplo de 5\n",
      "36 es multiplo de 3\n",
      "37 no aplica\n",
      "38 no aplica\n",
      "39 es multiplo de 3\n",
      "40 es multiplo de 5\n",
      "41 no aplica\n",
      "42 es multiplo de 3\n",
      "43 no aplica\n",
      "44 no aplica\n",
      "45 es multiplo de 3 y 5\n",
      "46 no aplica\n",
      "47 no aplica\n",
      "48 es multiplo de 3\n",
      "49 no aplica\n",
      "50 es multiplo de 5\n",
      "51 es multiplo de 3\n",
      "52 no aplica\n",
      "53 no aplica\n",
      "54 es multiplo de 3\n",
      "55 es multiplo de 5\n",
      "56 no aplica\n",
      "57 es multiplo de 3\n",
      "58 no aplica\n",
      "59 no aplica\n",
      "60 es multiplo de 3 y 5\n",
      "61 no aplica\n",
      "62 no aplica\n",
      "63 es multiplo de 3\n",
      "64 no aplica\n",
      "65 es multiplo de 5\n",
      "66 es multiplo de 3\n",
      "67 no aplica\n",
      "68 no aplica\n",
      "69 es multiplo de 3\n",
      "70 es multiplo de 5\n",
      "71 no aplica\n",
      "72 es multiplo de 3\n",
      "73 no aplica\n",
      "74 no aplica\n",
      "75 es multiplo de 3 y 5\n",
      "76 no aplica\n",
      "77 no aplica\n",
      "78 es multiplo de 3\n",
      "79 no aplica\n",
      "80 es multiplo de 5\n",
      "81 es multiplo de 3\n",
      "82 no aplica\n",
      "83 no aplica\n",
      "84 es multiplo de 3\n",
      "85 es multiplo de 5\n",
      "86 no aplica\n",
      "87 es multiplo de 3\n",
      "88 no aplica\n",
      "89 no aplica\n",
      "90 es multiplo de 3 y 5\n",
      "91 no aplica\n",
      "92 no aplica\n",
      "93 es multiplo de 3\n",
      "94 no aplica\n",
      "95 es multiplo de 5\n",
      "96 es multiplo de 3\n",
      "97 no aplica\n",
      "98 no aplica\n",
      "99 es multiplo de 3\n",
      "100 es multiplo de 5\n"
     ]
    }
   ],
   "source": [
    "for i in range (1,101):\n",
    "    if  i % 3 == 0 and i % 5 == 0:\n",
    "        print(f\"{i} es multiplo de 3 y 5\")\n",
    "    elif i % 3 == 0:\n",
    "        print(f\"{i} es multiplo de 3\")\n",
    "    elif i % 5 == 0:\n",
    "        print(f\"{i} es multiplo de 5\")\n",
    "    else:\n",
    "        print(  f\"{i} no aplica\")\n"
   ]
  },
  {
   "cell_type": "markdown",
   "metadata": {},
   "source": [
    "6. Ingresar un número por teclado e imprimir si es número primo o no."
   ]
  },
  {
   "cell_type": "code",
   "execution_count": 14,
   "metadata": {},
   "outputs": [
    {
     "name": "stdout",
     "output_type": "stream",
     "text": [
      "1 no es un numero primo\n"
     ]
    }
   ],
   "source": [
    "num = int(input(\"Ingrese un numero\"))\n",
    "contador =0\n",
    "for i in  range(1, num + 1):\n",
    "    if  num % i == 0:\n",
    "        contador +=1 \n",
    "if contador ==2:\n",
    "    print(f\"{i} es numero Primo\")\n",
    "else:\n",
    "        print(f\"{i} no es un numero primo\")"
   ]
  },
  {
   "cell_type": "code",
   "execution_count": 20,
   "metadata": {},
   "outputs": [
    {
     "name": "stdout",
     "output_type": "stream",
     "text": [
      "3 es numero Primo\n"
     ]
    }
   ],
   "source": [
    "num = int(input(\"Ingrese un numero\"))\n",
    "contador=0\n",
    "i=1\n",
    "while i <= num:\n",
    "    if num % i == 0:\n",
    "        contador += 1\n",
    "    i=i+1\n",
    "if contador ==2:\n",
    "    print(f\"{i} es numero Primo\")\n",
    "else:\n",
    "    print(f\"{i} no es un numero primo\")"
   ]
  },
  {
   "cell_type": "code",
   "execution_count": null,
   "metadata": {},
   "outputs": [],
   "source": [
    "num = int(input(\"Ingrese un numero\"))\n",
    "es_primo= True\n",
    "for  i in range(2, num):\n",
    "    if  num % i == 0:\n",
    "        es_primo=False\n",
    "        break\n",
    "if  es_primo and num>1:\n",
    "    print(f\"El numero {num}es primo\")\n",
    "else:  \n",
    "    print(f\"El numero {num} no es primo\")  #este codigo es similar a los anteriores pero es mas optimizado\n",
    "    # porque cuando no es true corta el ciclo.. el otro sigue recorriendo todos los numeros"
   ]
  },
  {
   "cell_type": "markdown",
   "metadata": {},
   "source": [
    "7. A partir de una lista vacía, utilizar un ciclo while para cargar allí\n",
    "números negativos del -20 al -1"
   ]
  },
  {
   "cell_type": "code",
   "execution_count": null,
   "metadata": {},
   "outputs": [],
   "source": [
    "lista="
   ]
  },
  {
   "cell_type": "markdown",
   "metadata": {},
   "source": [
    "8. A partir de la variable cadena, mostrar en qué posiciones aparece la\n",
    "letra \"n\" cadena = 'Hola Politécnico. Esto es una práctica\n",
    "programación con Python'"
   ]
  },
  {
   "cell_type": "markdown",
   "metadata": {},
   "source": [
    "9. Convertir en una lista la variable \"cadena\" del punto 10 y luego\n",
    "recorrerla con un iterador"
   ]
  },
  {
   "cell_type": "markdown",
   "metadata": {},
   "source": [
    "10.A partir de la siguiente lista de números, crear una lista nueva sólo si\n",
    "el número es divisible por 5 lista1=[18,25,29,32,35,42,50,60,63,100]"
   ]
  },
  {
   "cell_type": "markdown",
   "metadata": {},
   "source": [
    "11.Imprimir los números primos del 1 al 100"
   ]
  },
  {
   "cell_type": "markdown",
   "metadata": {},
   "source": [
    "12. Imprimir los números del 10 al 1 utilizando un bucle while."
   ]
  },
  {
   "cell_type": "markdown",
   "metadata": {},
   "source": [
    "13.Imprimir los números del 1 al 30, no mostrando los que son\n",
    "múltiplos de 3."
   ]
  },
  {
   "cell_type": "markdown",
   "metadata": {},
   "source": [
    "14.Ingresar una cadena por\n",
    "teclado y contar la cantidad de letras ‘a’ que aparecen en la misma.\n",
    "Imprimir la cadena y la cantidad de ‘a’ que aparecen."
   ]
  },
  {
   "cell_type": "markdown",
   "metadata": {},
   "source": [
    "15.dada una lista de marca de vehículos\n",
    "marcas =[‘Ford’,’Renault’,’Peugeot’,’Audi’,’Toyota’], recorrer la\n",
    "lista con un bucle for y en caso de que la marca sea ‘Audi’ salir del\n",
    "bucle."
   ]
  }
 ],
 "metadata": {
  "kernelspec": {
   "display_name": "Python 3",
   "language": "python",
   "name": "python3"
  },
  "language_info": {
   "codemirror_mode": {
    "name": "ipython",
    "version": 3
   },
   "file_extension": ".py",
   "mimetype": "text/x-python",
   "name": "python",
   "nbconvert_exporter": "python",
   "pygments_lexer": "ipython3",
   "version": "3.11.9"
  }
 },
 "nbformat": 4,
 "nbformat_minor": 2
}
