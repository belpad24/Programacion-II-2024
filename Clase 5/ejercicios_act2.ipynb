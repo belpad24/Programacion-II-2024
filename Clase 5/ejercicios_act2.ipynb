{
 "cells": [
  {
   "cell_type": "markdown",
   "metadata": {},
   "source": [
    "1. Imprimir los números del 1 al 20 utilizando un bucle for"
   ]
  },
  {
   "cell_type": "code",
   "execution_count": null,
   "metadata": {},
   "outputs": [],
   "source": []
  },
  {
   "cell_type": "markdown",
   "metadata": {},
   "source": [
    "2. Imprimir los números pares del 1 al 20 utilizando un bucle while"
   ]
  },
  {
   "cell_type": "code",
   "execution_count": null,
   "metadata": {},
   "outputs": [],
   "source": []
  },
  {
   "cell_type": "markdown",
   "metadata": {},
   "source": [
    "3. Imprimir los números impares del 1 al 30 utilizando un bucle for"
   ]
  },
  {
   "cell_type": "code",
   "execution_count": null,
   "metadata": {},
   "outputs": [],
   "source": []
  },
  {
   "cell_type": "markdown",
   "metadata": {},
   "source": [
    "4. Ingresar un número por teclado y mostrar su tabla de multiplicar del\n",
    "1 al 10."
   ]
  },
  {
   "cell_type": "markdown",
   "metadata": {},
   "source": [
    "5. Imprimir los números del 1 al 100, para los múltiplos de 3, imprimir\n",
    "“múltiplo de 3”, para los múltiplos de 5 imprimir “múltiplo de 5” y\n",
    "para los múltiplos de 3 y de 5 imprimir “múltiplo de 3 y 5”."
   ]
  },
  {
   "cell_type": "markdown",
   "metadata": {},
   "source": [
    "6. Ingresar un número por teclado e imprimir si es número primo o no."
   ]
  },
  {
   "cell_type": "markdown",
   "metadata": {},
   "source": [
    "7. A partir de una lista vacía, utilizar un ciclo while para cargar allí\n",
    "números negativos del -20 al -1"
   ]
  },
  {
   "cell_type": "markdown",
   "metadata": {},
   "source": [
    "8. A partir de la variable cadena, mostrar en qué posiciones aparece la\n",
    "letra \"n\" cadena = 'Hola Politécnico. Esto es una práctica\n",
    "programación con Python'"
   ]
  },
  {
   "cell_type": "markdown",
   "metadata": {},
   "source": [
    "9. Convertir en una lista la variable \"cadena\" del punto 10 y luego\n",
    "recorrerla con un iterador"
   ]
  },
  {
   "cell_type": "markdown",
   "metadata": {},
   "source": [
    "10.A partir de la siguiente lista de números, crear una lista nueva sólo si\n",
    "el número es divisible por 5 lista1=[18,25,29,32,35,42,50,60,63,100]"
   ]
  },
  {
   "cell_type": "markdown",
   "metadata": {},
   "source": [
    "11.Imprimir los números primos del 1 al 100"
   ]
  },
  {
   "cell_type": "markdown",
   "metadata": {},
   "source": [
    "12. Imprimir los números del 10 al 1 utilizando un bucle while."
   ]
  },
  {
   "cell_type": "markdown",
   "metadata": {},
   "source": [
    "13.Imprimir los números del 1 al 30, no mostrando los que son\n",
    "múltiplos de 3."
   ]
  },
  {
   "cell_type": "markdown",
   "metadata": {},
   "source": [
    "14.Ingresar una cadena por\n",
    "teclado y contar la cantidad de letras ‘a’ que aparecen en la misma.\n",
    "Imprimir la cadena y la cantidad de ‘a’ que aparecen."
   ]
  },
  {
   "cell_type": "markdown",
   "metadata": {},
   "source": [
    "15.dada una lista de marca de vehículos\n",
    "marcas =[‘Ford’,’Renault’,’Peugeot’,’Audi’,’Toyota’], recorrer la\n",
    "lista con un bucle for y en caso de que la marca sea ‘Audi’ salir del\n",
    "bucle."
   ]
  }
 ],
 "metadata": {
  "language_info": {
   "name": "python"
  }
 },
 "nbformat": 4,
 "nbformat_minor": 2
}
